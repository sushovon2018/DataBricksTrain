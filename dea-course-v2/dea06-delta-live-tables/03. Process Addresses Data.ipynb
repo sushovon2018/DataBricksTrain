{
 "cells": [
  {
   "cell_type": "markdown",
   "metadata": {
    "application/vnd.databricks.v1+cell": {
     "cellMetadata": {},
     "inputWidgets": {},
     "nuid": "95a95f52-fc71-4aca-bce9-2a17d4bedad9",
     "showTitle": false,
     "tableResultSettingsMap": {},
     "title": ""
    }
   },
   "source": [
    "## Process Addresses Data \n",
    "1. Ingest the data into the data lakehouse - bronze_addresses\n",
    "1. Perform data quality checks and transform the data as required - silver_addresses_clean\n",
    "1. Apply changes to the Addresses data (SCD Type 2) - silver_addresses"
   ]
  },
  {
   "cell_type": "code",
   "execution_count": 0,
   "metadata": {
    "application/vnd.databricks.v1+cell": {
     "cellMetadata": {},
     "inputWidgets": {},
     "nuid": "62b5312f-0001-499d-85ed-79a400cde768",
     "showTitle": false,
     "tableResultSettingsMap": {},
     "title": ""
    }
   },
   "outputs": [],
   "source": [
    "import dlt\n",
    "import pyspark.sql.functions as F"
   ]
  },
  {
   "cell_type": "markdown",
   "metadata": {
    "application/vnd.databricks.v1+cell": {
     "cellMetadata": {},
     "inputWidgets": {},
     "nuid": "2bef17ab-7a53-4d7d-a759-8724ac0b52c4",
     "showTitle": false,
     "tableResultSettingsMap": {},
     "title": ""
    }
   },
   "source": [
    "### 1. Ingest the data into the data lakehouse - bronze_addresses"
   ]
  },
  {
   "cell_type": "markdown",
   "metadata": {
    "application/vnd.databricks.v1+cell": {
     "cellMetadata": {},
     "inputWidgets": {},
     "nuid": "ec28f602-966d-435d-b1fb-e6d40683bc8f",
     "showTitle": false,
     "tableResultSettingsMap": {},
     "title": ""
    }
   },
   "source": [
    "![dea06-03-process-address-data-1.png](images/dea06-03-process-address-data-1.png)"
   ]
  },
  {
   "cell_type": "code",
   "execution_count": 0,
   "metadata": {
    "application/vnd.databricks.v1+cell": {
     "cellMetadata": {},
     "inputWidgets": {},
     "nuid": "b8d3459b-0415-4bdf-8041-296226ffc05d",
     "showTitle": false,
     "tableResultSettingsMap": {},
     "title": ""
    }
   },
   "outputs": [],
   "source": [
    "@dlt.table(\n",
    "    name = \"bronze_addresses\",\n",
    "    table_properties = {'quality' : 'bronze'},\n",
    "    comment = \"Raw addresses data ingested from the source system\"\n",
    ")\n",
    "def create_bronze_addresses():\n",
    "    return (\n",
    "        spark.readStream\n",
    "            .format(\"cloudFiles\")\n",
    "            .option(\"cloudFiles.format\", \"csv\")\n",
    "            .option(\"cloudFiles.inferColumnTypes\", \"true\")\n",
    "            .load(\"/Volumes/circuitbox/landing/operational_data/addresses/\")\n",
    "            .select(\n",
    "                \"*\",\n",
    "                F.col(\"_metadata.file_path\").alias(\"input_file_path\"),\n",
    "                F.current_timestamp().alias(\"ingest_timestamp\")\n",
    "            )\n",
    "    )"
   ]
  },
  {
   "cell_type": "markdown",
   "metadata": {
    "application/vnd.databricks.v1+cell": {
     "cellMetadata": {},
     "inputWidgets": {},
     "nuid": "2a98271d-7f07-4fbd-b4e5-a1af9d8a8d7d",
     "showTitle": false,
     "tableResultSettingsMap": {},
     "title": ""
    }
   },
   "source": [
    "### 2. Perform data quality checks and transform the data as required - silver_addresses_clean"
   ]
  },
  {
   "cell_type": "code",
   "execution_count": 0,
   "metadata": {
    "application/vnd.databricks.v1+cell": {
     "cellMetadata": {},
     "inputWidgets": {},
     "nuid": "386ab46e-3cbd-4903-9dcd-fe8a5d44f7e7",
     "showTitle": false,
     "tableResultSettingsMap": {},
     "title": ""
    }
   },
   "outputs": [],
   "source": [
    "@dlt.table(\n",
    "    name = \"silver_addresses_clean\",\n",
    "    comment = \"Cleaned addresses data\",\n",
    "    table_properties = {'quality' : 'silver'}\n",
    ")\n",
    "@dlt.expect_or_fail(\"valid_customer_id\", \"customer_id IS NOT NULL\")\n",
    "@dlt.expect_or_drop(\"valid_address\", \"address_line_1 IS NOT NULL\")\n",
    "@dlt.expect(\"valid_postcode\", \"LENGTH(postcode) = 5\")\n",
    "def create_silver_addresses_clean():\n",
    "    return (\n",
    "        spark.readStream.table(\"LIVE.bronze_addresses\")\n",
    "            .select(\n",
    "                \"customer_id\",\n",
    "                \"address_line_1\",\n",
    "                \"city\",\n",
    "                \"state\",\n",
    "                \"postcode\",\n",
    "                F.col(\"created_date\").cast(\"date\")\n",
    "            )\n",
    "    )"
   ]
  },
  {
   "cell_type": "markdown",
   "metadata": {
    "application/vnd.databricks.v1+cell": {
     "cellMetadata": {},
     "inputWidgets": {},
     "nuid": "35089dbb-8838-426e-8908-4a7b4be8b4b7",
     "showTitle": false,
     "tableResultSettingsMap": {},
     "title": ""
    }
   },
   "source": [
    "### 3. Apply changes to the Addresses data (SCD Type 2) - silver_addresses"
   ]
  },
  {
   "cell_type": "markdown",
   "metadata": {
    "application/vnd.databricks.v1+cell": {
     "cellMetadata": {},
     "inputWidgets": {},
     "nuid": "029d6d52-a97f-4362-a52d-a78d75f11942",
     "showTitle": false,
     "tableResultSettingsMap": {},
     "title": ""
    }
   },
   "source": [
    "![dea06-03-process-address-data-2.png](images/dea06-03-process-address-data-2.png)"
   ]
  },
  {
   "cell_type": "code",
   "execution_count": 0,
   "metadata": {
    "application/vnd.databricks.v1+cell": {
     "cellMetadata": {},
     "inputWidgets": {},
     "nuid": "627fac94-4c8b-45f0-9ead-1ab1d1475c1e",
     "showTitle": false,
     "tableResultSettingsMap": {},
     "title": ""
    }
   },
   "outputs": [],
   "source": [
    "dlt.create_streaming_table(\n",
    "    name = \"silver_addresses\",\n",
    "    comment = \"SCD Type 2 addresses data\",\n",
    "    table_properties = {'quality' : 'silver'}\n",
    ")"
   ]
  },
  {
   "cell_type": "code",
   "execution_count": 0,
   "metadata": {
    "application/vnd.databricks.v1+cell": {
     "cellMetadata": {},
     "inputWidgets": {},
     "nuid": "6f1d56af-cae4-4956-83f1-7f9f0daa401a",
     "showTitle": false,
     "tableResultSettingsMap": {},
     "title": ""
    }
   },
   "outputs": [],
   "source": [
    "dlt.apply_changes(\n",
    "    target = \"silver_addresses\",\n",
    "    source = \"silver_addresses_clean\",\n",
    "    keys = [\"customer_id\"],\n",
    "    sequence_by = \"created_date\",\n",
    "    stored_as_scd_type = 2\n",
    ")"
   ]
  },
  {
   "cell_type": "markdown",
   "metadata": {
    "application/vnd.databricks.v1+cell": {
     "cellMetadata": {},
     "inputWidgets": {},
     "nuid": "20192616-1eb0-4996-a6d2-46f8bebc8152",
     "showTitle": false,
     "tableResultSettingsMap": {},
     "title": ""
    }
   },
   "source": []
  }
 ],
 "metadata": {
  "application/vnd.databricks.v1+notebook": {
   "computePreferences": null,
   "dashboards": [],
   "environmentMetadata": {
    "base_environment": "",
    "environment_version": "1"
   },
   "inputWidgetPreferences": null,
   "language": "python",
   "notebookMetadata": {
    "pythonIndentUnit": 4
   },
   "notebookName": "03. Process Addresses Data",
   "widgets": {}
  },
  "language_info": {
   "name": "python"
  }
 },
 "nbformat": 4,
 "nbformat_minor": 0
}
