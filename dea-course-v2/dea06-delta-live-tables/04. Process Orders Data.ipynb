{
 "cells": [
  {
   "cell_type": "markdown",
   "metadata": {
    "application/vnd.databricks.v1+cell": {
     "cellMetadata": {},
     "inputWidgets": {},
     "nuid": "17b7c36d-0c2e-4e27-9745-2e88bf78fc64",
     "showTitle": false,
     "tableResultSettingsMap": {},
     "title": ""
    }
   },
   "source": [
    "## Process Orders Data \n",
    "1. Ingest the data into the data lakehouse - bronze_orders\n",
    "1. Perform data quality checks and transform the data as required - silver_orders_clean\n",
    "1. Explode the items array from the order object - silver_orders"
   ]
  },
  {
   "cell_type": "markdown",
   "metadata": {
    "application/vnd.databricks.v1+cell": {
     "cellMetadata": {},
     "inputWidgets": {},
     "nuid": "85522eb7-28d7-4cd1-9aa3-a3afe13f8b02",
     "showTitle": false,
     "tableResultSettingsMap": {},
     "title": ""
    }
   },
   "source": [
    "![dea06-04-process-orders-data-1.png](images/dea06-04-process-orders-data-1.png)"
   ]
  },
  {
   "cell_type": "markdown",
   "metadata": {
    "application/vnd.databricks.v1+cell": {
     "cellMetadata": {},
     "inputWidgets": {},
     "nuid": "2bef17ab-7a53-4d7d-a759-8724ac0b52c4",
     "showTitle": false,
     "tableResultSettingsMap": {},
     "title": ""
    }
   },
   "source": [
    "### 1. Ingest the data into the data lakehouse - bronze_orders"
   ]
  },
  {
   "cell_type": "code",
   "execution_count": 0,
   "metadata": {
    "application/vnd.databricks.v1+cell": {
     "cellMetadata": {},
     "inputWidgets": {},
     "nuid": "0c19b72d-bbed-4367-8864-be52b5da848e",
     "showTitle": false,
     "tableResultSettingsMap": {},
     "title": ""
    }
   },
   "outputs": [],
   "source": [
    "CREATE OR REFRESH STREAMING TABLE bronze_orders\n",
    "COMMENT \"Raw orders data ingested from the source system\"\n",
    "TBLPROPERTIES (\"quality\" = \"bronze\")\n",
    "AS\n",
    "SELECT *,\n",
    "        _metadata.file_path AS input_file_path,\n",
    "       CURRENT_TIMESTAMP AS ingestion_timestamp\n",
    "  FROM cloud_files(\n",
    "                    '/Volumes/circuitbox/landing/operational_data/orders/', \n",
    "                    'json',\n",
    "                    map(\"cloudFiles.inferColumnTypes\", \"true\")\n",
    "                   );"
   ]
  },
  {
   "cell_type": "markdown",
   "metadata": {
    "application/vnd.databricks.v1+cell": {
     "cellMetadata": {},
     "inputWidgets": {},
     "nuid": "0fa4cd8c-3459-4931-9ec3-cc9d0691440a",
     "showTitle": false,
     "tableResultSettingsMap": {},
     "title": ""
    }
   },
   "source": [
    "### 2. Perform data quality checks and transform the data as required - silver_orders_clean"
   ]
  },
  {
   "cell_type": "code",
   "execution_count": 0,
   "metadata": {
    "application/vnd.databricks.v1+cell": {
     "cellMetadata": {},
     "inputWidgets": {},
     "nuid": "d36f795d-2aca-4e48-8c27-c87056e775ec",
     "showTitle": false,
     "tableResultSettingsMap": {},
     "title": ""
    }
   },
   "outputs": [],
   "source": [
    "CREATE OR REFRESH STREAMING TABLE silver_orders_clean(\n",
    "  CONSTRAINT valid_customer_id EXPECT (customer_id IS NOT NULL) ON VIOLATION FAIL UPDATE,\n",
    "  CONSTRAINT valid_order_id EXPECT (order_id IS NOT NULL) ON VIOLATION FAIL UPDATE,\n",
    "  CONSTRAINT valid_order_status EXPECT (order_status IN ('Pending', 'Shipped', 'Cancelled', 'Completed')),\n",
    "  CONSTRAINT valid_payment_method EXPECT (payment_method IN ('Credit Card', 'Bank Transfer', 'PayPal'))\n",
    ")\n",
    "COMMENT \"Cleaned orders data\"\n",
    "TBLPROPERTIES (\"quality\" = \"silver\")\n",
    "AS\n",
    "SELECT order_id,\n",
    "       customer_id,\n",
    "       CAST(order_timestamp AS TIMESTAMP) AS order_timestamp,\n",
    "       payment_method,\n",
    "       items,\n",
    "       order_status\n",
    "  FROM STREAM(LIVE.bronze_orders);"
   ]
  },
  {
   "cell_type": "markdown",
   "metadata": {
    "application/vnd.databricks.v1+cell": {
     "cellMetadata": {},
     "inputWidgets": {},
     "nuid": "aaa4ada2-f711-45f4-a91c-50cc7d8503a4",
     "showTitle": false,
     "tableResultSettingsMap": {},
     "title": ""
    }
   },
   "source": [
    "### 3. Explode the items array from the order object - silver_orders"
   ]
  },
  {
   "cell_type": "code",
   "execution_count": 0,
   "metadata": {
    "application/vnd.databricks.v1+cell": {
     "cellMetadata": {},
     "inputWidgets": {},
     "nuid": "1f669e81-75ea-479b-9342-05cb01672778",
     "showTitle": false,
     "tableResultSettingsMap": {},
     "title": ""
    }
   },
   "outputs": [],
   "source": [
    "CREATE STREAMING TABLE silver_orders\n",
    "AS\n",
    "SELECT order_id,\n",
    "      customer_id,\n",
    "      order_timestamp,\n",
    "      payment_method,\n",
    "      order_status,\n",
    "      item.item_id,\n",
    "      item.name AS item_name,\n",
    "      item.price AS item_price,\n",
    "      item.quantity AS item_quantity,\n",
    "      item.category AS item_category\n",
    "  FROM (SELECT order_id,\n",
    "              customer_id,\n",
    "              order_timestamp,\n",
    "              payment_method,\n",
    "              order_status,\n",
    "              explode(items) AS item\n",
    "          FROM STREAM(LIVE.silver_orders_clean));"
   ]
  }
 ],
 "metadata": {
  "application/vnd.databricks.v1+notebook": {
   "computePreferences": null,
   "dashboards": [],
   "environmentMetadata": {
    "base_environment": "",
    "environment_version": "1"
   },
   "inputWidgetPreferences": null,
   "language": "sql",
   "notebookMetadata": {
    "pythonIndentUnit": 4
   },
   "notebookName": "04. Process Orders Data",
   "widgets": {}
  },
  "language_info": {
   "name": "sql"
  }
 },
 "nbformat": 4,
 "nbformat_minor": 0
}
