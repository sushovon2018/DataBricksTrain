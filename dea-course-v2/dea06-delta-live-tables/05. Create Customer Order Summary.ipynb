{
 "cells": [
  {
   "cell_type": "markdown",
   "metadata": {
    "application/vnd.databricks.v1+cell": {
     "cellMetadata": {},
     "inputWidgets": {},
     "nuid": "2bef17ab-7a53-4d7d-a759-8724ac0b52c4",
     "showTitle": false,
     "tableResultSettingsMap": {},
     "title": ""
    }
   },
   "source": [
    "## Create Customer Order Summary\n",
    "1. Join the tables Silver_Customers, Silver_addresses and Silver_Orders\n",
    "1. Retrieve the latest Address of the Customer \n",
    "1. Calculate the following values\n",
    "    - total_orders\n",
    "    - total_items_ordered\n",
    "    - total_order_amount"
   ]
  },
  {
   "cell_type": "markdown",
   "metadata": {
    "application/vnd.databricks.v1+cell": {
     "cellMetadata": {},
     "inputWidgets": {},
     "nuid": "76580820-cac4-4170-bf3d-ebc8a9ed7456",
     "showTitle": false,
     "tableResultSettingsMap": {},
     "title": ""
    }
   },
   "source": [
    "##### CircuitBox Data Model\n",
    "![dea06-05-create-customer-order-summary-2.png](images/dea06-05-create-customer-order-summary-2.png)"
   ]
  },
  {
   "cell_type": "markdown",
   "metadata": {
    "application/vnd.databricks.v1+cell": {
     "cellMetadata": {},
     "inputWidgets": {},
     "nuid": "0025499d-9046-4856-aa4f-53d6286d5b12",
     "showTitle": false,
     "tableResultSettingsMap": {},
     "title": ""
    }
   },
   "source": [
    "##### Customer Order Summary Requirement\n",
    "![dea06-05-create-customer-order-summary-1.png](images/dea06-05-create-customer-order-summary-1.png)"
   ]
  },
  {
   "cell_type": "code",
   "execution_count": 0,
   "metadata": {
    "application/vnd.databricks.v1+cell": {
     "cellMetadata": {},
     "inputWidgets": {},
     "nuid": "26a72003-851d-47b4-8398-5179a5c44375",
     "showTitle": false,
     "tableResultSettingsMap": {},
     "title": ""
    }
   },
   "outputs": [],
   "source": [
    "CREATE OR REFRESH MATERIALIZED VIEW gold_customer_order_summary\n",
    "AS\n",
    "SELECT c.customer_id,\n",
    "       c.customer_name,\n",
    "       c.date_of_birth,\n",
    "       c.telephone,\n",
    "       c.email,\n",
    "       a.address_line_1,\n",
    "       a.city,\n",
    "       a.state,\n",
    "       a.postcode,\n",
    "       COUNT(DISTINCT o.order_id) AS total_orders,\n",
    "       SUM(o.item_quantity) AS total_items_ordered,\n",
    "       SUM(o.item_quantity * o.item_price) AS total_order_amount\n",
    "  FROM LIVE.silver_customers c\n",
    "  JOIN LIVE.silver_addresses a ON c.customer_id = a.customer_id\n",
    "  JOIN LIVE.silver_orders o ON c.customer_id = o.customer_id\n",
    " WHERE a.__END_AT IS NULL\n",
    " GROUP BY ALL;"
   ]
  }
 ],
 "metadata": {
  "application/vnd.databricks.v1+notebook": {
   "computePreferences": null,
   "dashboards": [],
   "environmentMetadata": {
    "base_environment": "",
    "environment_version": "1"
   },
   "inputWidgetPreferences": null,
   "language": "sql",
   "notebookMetadata": {
    "pythonIndentUnit": 4
   },
   "notebookName": "05. Create Customer Order Summary",
   "widgets": {}
  },
  "language_info": {
   "name": "sql"
  }
 },
 "nbformat": 4,
 "nbformat_minor": 0
}
