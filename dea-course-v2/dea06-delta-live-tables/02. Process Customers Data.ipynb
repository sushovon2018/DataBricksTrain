{
 "cells": [
  {
   "cell_type": "markdown",
   "metadata": {
    "application/vnd.databricks.v1+cell": {
     "cellMetadata": {},
     "inputWidgets": {},
     "nuid": "e9c3a1f2-12f1-4b8d-b369-fa4e42e7faeb",
     "showTitle": false,
     "tableResultSettingsMap": {},
     "title": ""
    }
   },
   "source": [
    "## Process the Customers Data \n",
    "1. Ingest the data into the data lakehouse - bronze_customers\n",
    "1. Perform data quality checks and transform the data as required - silver_customers_clean\n",
    "1. Apply changes to the Customers data - silver_customers"
   ]
  },
  {
   "cell_type": "markdown",
   "metadata": {
    "application/vnd.databricks.v1+cell": {
     "cellMetadata": {},
     "inputWidgets": {},
     "nuid": "93083d05-9a77-406b-95d3-b8732ca20de6",
     "showTitle": false,
     "tableResultSettingsMap": {},
     "title": ""
    }
   },
   "source": [
    "![dea06-02-process-customer-data-1.png](images/dea06-02-process-customer-data-1.png)"
   ]
  },
  {
   "cell_type": "markdown",
   "metadata": {
    "application/vnd.databricks.v1+cell": {
     "cellMetadata": {},
     "inputWidgets": {},
     "nuid": "2bef17ab-7a53-4d7d-a759-8724ac0b52c4",
     "showTitle": false,
     "tableResultSettingsMap": {},
     "title": ""
    }
   },
   "source": [
    "### 1. Ingest the data into the data lakehouse - bronze_customers"
   ]
  },
  {
   "cell_type": "code",
   "execution_count": 0,
   "metadata": {
    "application/vnd.databricks.v1+cell": {
     "cellMetadata": {
      "byteLimit": 2048000,
      "rowLimit": 10000
     },
     "inputWidgets": {},
     "nuid": "5c50dbf8-0d92-4fb5-808b-4ceca3c27ac3",
     "showTitle": false,
     "tableResultSettingsMap": {},
     "title": ""
    }
   },
   "outputs": [],
   "source": [
    "CREATE OR REFRESH STREAMING TABLE bronze_customers\n",
    "COMMENT 'Raw customers data ingested from the source system operational data'\n",
    "TBLPROPERTIES ('quality' = 'bronze')\n",
    "AS \n",
    "SELECT *,\n",
    "       _metadata.file_path AS input_file_path,\n",
    "       CURRENT_TIMESTAMP AS ingestion_timestamp\n",
    "FROM cloud_files(\n",
    "  '/Volumes/circuitbox/landing/operational_data/customers/',\n",
    "  'json',\n",
    "  map('cloudFiles.inferColumnTypes', 'true')\n",
    ");"
   ]
  },
  {
   "cell_type": "markdown",
   "metadata": {
    "application/vnd.databricks.v1+cell": {
     "cellMetadata": {},
     "inputWidgets": {},
     "nuid": "fdd03ff8-2877-4ba8-bc22-fd30df039163",
     "showTitle": false,
     "tableResultSettingsMap": {},
     "title": ""
    }
   },
   "source": [
    "### 2. Perform data quality checks and transform the data as required - silver_customers_clean"
   ]
  },
  {
   "cell_type": "markdown",
   "metadata": {
    "application/vnd.databricks.v1+cell": {
     "cellMetadata": {},
     "inputWidgets": {},
     "nuid": "249889ff-7077-4ea4-99cb-3027202f10fa",
     "showTitle": false,
     "tableResultSettingsMap": {},
     "title": ""
    }
   },
   "source": [
    "![dea06-02-process-customer-data-2](images/dea06-02-process-customer-data-2.png)"
   ]
  },
  {
   "cell_type": "code",
   "execution_count": 0,
   "metadata": {
    "application/vnd.databricks.v1+cell": {
     "cellMetadata": {},
     "inputWidgets": {},
     "nuid": "1caa61f9-7107-47a8-82b7-63ab171ec942",
     "showTitle": false,
     "tableResultSettingsMap": {},
     "title": ""
    }
   },
   "outputs": [],
   "source": [
    "CREATE OR REFRESH STREAMING TABLE silver_customers_clean(\n",
    "  CONSTRAINT valid_customer_id EXPECT (customer_id IS NOT NULL) ON VIOLATION FAIL UPDATE,\n",
    "  CONSTRAINT valid_customer_name EXPECT (customer_name IS NOT NULL) ON VIOLATION DROP ROW,\n",
    "  CONSTRAINT valid_telephone EXPECT (LENGTH(telephone) >= 10),\n",
    "  CONSTRAINT valid_email EXPECT (email IS NOT NULL),\n",
    "  CONSTRAINT valid_date_of_birth EXPECT(date_of_birth >= '1920-01-01') \n",
    ")\n",
    "COMMENT 'Cleaned customers data'\n",
    "TBLPROPERTIES ('quality' = 'silver')\n",
    "AS\n",
    "SELECT customer_id,\n",
    "       customer_name,\n",
    "       CAST(date_of_birth AS DATE) AS date_of_birth,\n",
    "       telephone,\n",
    "       email,\n",
    "       CAST(created_date AS DATE) AS created_date\n",
    "  FROM STREAM(LIVE.bronze_customers)"
   ]
  },
  {
   "cell_type": "markdown",
   "metadata": {
    "application/vnd.databricks.v1+cell": {
     "cellMetadata": {},
     "inputWidgets": {},
     "nuid": "a699dc40-9cbf-4f35-a0f2-28d1bc23d538",
     "showTitle": false,
     "tableResultSettingsMap": {},
     "title": ""
    }
   },
   "source": [
    "### 3. Apply changes to the Customers data - silver_customers"
   ]
  },
  {
   "cell_type": "markdown",
   "metadata": {
    "application/vnd.databricks.v1+cell": {
     "cellMetadata": {},
     "inputWidgets": {},
     "nuid": "0f87b2f0-c2c7-4ff7-9ce7-354fa26359da",
     "showTitle": false,
     "tableResultSettingsMap": {},
     "title": ""
    }
   },
   "source": [
    "![dea06-02-process-customer-data-3](images/dea06-02-process-customer-data-3.png)"
   ]
  },
  {
   "cell_type": "code",
   "execution_count": 0,
   "metadata": {
    "application/vnd.databricks.v1+cell": {
     "cellMetadata": {},
     "inputWidgets": {},
     "nuid": "cbea3b78-f208-4063-b2be-2fd87403aad8",
     "showTitle": false,
     "tableResultSettingsMap": {},
     "title": ""
    }
   },
   "outputs": [],
   "source": [
    "CREATE OR REFRESH STREAMING TABLE silver_customers\n",
    "COMMENT 'SCD Type 1 customers data'\n",
    "TBLPROPERTIES ('quality' = 'silver');"
   ]
  },
  {
   "cell_type": "code",
   "execution_count": 0,
   "metadata": {
    "application/vnd.databricks.v1+cell": {
     "cellMetadata": {},
     "inputWidgets": {},
     "nuid": "31088c12-df07-4fab-80cc-3b7383d0f252",
     "showTitle": false,
     "tableResultSettingsMap": {},
     "title": ""
    }
   },
   "outputs": [],
   "source": [
    "APPLY CHANGES INTO LIVE.silver_customers\n",
    "FROM STREAM(LIVE.silver_customers_clean)\n",
    "KEYS (customer_id)\n",
    "SEQUENCE BY created_date\n",
    "STORED AS SCD TYPE 1; -- Optional. Type 1 is the default value"
   ]
  }
 ],
 "metadata": {
  "application/vnd.databricks.v1+notebook": {
   "computePreferences": null,
   "dashboards": [],
   "environmentMetadata": {
    "base_environment": "",
    "environment_version": "1"
   },
   "inputWidgetPreferences": null,
   "language": "sql",
   "notebookMetadata": {
    "pythonIndentUnit": 4
   },
   "notebookName": "02. Process Customers Data",
   "widgets": {}
  },
  "language_info": {
   "name": "sql"
  }
 },
 "nbformat": 4,
 "nbformat_minor": 0
}
