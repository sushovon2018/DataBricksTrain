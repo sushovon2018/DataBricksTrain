{
 "cells": [
  {
   "cell_type": "markdown",
   "metadata": {
    "application/vnd.databricks.v1+cell": {
     "cellMetadata": {},
     "inputWidgets": {},
     "nuid": "c192bfd8-8dfe-4d9e-aafb-87cecd864dbe",
     "showTitle": false,
     "tableResultSettingsMap": {},
     "title": ""
    }
   },
   "source": [
    "## Higher Order Functions\n",
    "\n",
    "  > - Higher Order Functions are functions that operate on complex data types such as arrays and maps\n",
    "  > - They allow you to pass functions as arguments (such as lambda expressions), apply transformations and return arrays or maps \n",
    "  > - They are extremely useful for manipulating arrays without exploding them. \n"
   ]
  },
  {
   "cell_type": "markdown",
   "metadata": {
    "application/vnd.databricks.v1+cell": {
     "cellMetadata": {},
     "inputWidgets": {},
     "nuid": "fd61d07c-6d14-4ae6-b8f7-cbac2d69f988",
     "showTitle": false,
     "tableResultSettingsMap": {},
     "title": ""
    }
   },
   "source": [
    "#### Commonly used Higher Order Array Functions  \n",
    "  - TRANSFORM\n",
    "  - FILTER\n",
    "  - EXISTS\n",
    "  - AGGREGATE    "
   ]
  },
  {
   "cell_type": "markdown",
   "metadata": {
    "application/vnd.databricks.v1+cell": {
     "cellMetadata": {},
     "inputWidgets": {},
     "nuid": "4affbab2-d1ed-4cdd-80cd-c4283424b136",
     "showTitle": false,
     "tableResultSettingsMap": {},
     "title": ""
    }
   },
   "source": [
    "#### Syntax\n",
    "-----------------------------------------------------------------------------\n",
    "`<function_name> (array_column, lambda_expression)` \n",
    "\n",
    "_lambda_expression_: `element -> expression`\n"
   ]
  },
  {
   "cell_type": "code",
   "execution_count": 0,
   "metadata": {
    "application/vnd.databricks.v1+cell": {
     "cellMetadata": {
      "byteLimit": 2048000,
      "rowLimit": 10000
     },
     "inputWidgets": {},
     "nuid": "507d8453-fa39-4d30-8c6c-46b736150b83",
     "showTitle": false,
     "tableResultSettingsMap": {},
     "title": ""
    }
   },
   "outputs": [],
   "source": [
    "CREATE OR REPLACE TEMPORARY VIEW order_items AS\n",
    "SELECT * FROM \n",
    "VALUES\n",
    "  (1, array('smartphone', 'laptop', 'monitor')),\n",
    "  (2, array('tablet', 'headphones', 'smartwatch')),\n",
    "  (3, array('keyboard', 'mouse'))\n",
    "AS orders(order_id, items);"
   ]
  },
  {
   "cell_type": "code",
   "execution_count": 0,
   "metadata": {
    "application/vnd.databricks.v1+cell": {
     "cellMetadata": {
      "byteLimit": 2048000,
      "rowLimit": 10000
     },
     "inputWidgets": {},
     "nuid": "a94611c0-d60e-4998-8849-407b2e5b1e5c",
     "showTitle": false,
     "tableResultSettingsMap": {},
     "title": ""
    }
   },
   "outputs": [],
   "source": [
    "SELECT * FROM order_items;"
   ]
  },
  {
   "cell_type": "markdown",
   "metadata": {
    "application/vnd.databricks.v1+cell": {
     "cellMetadata": {},
     "inputWidgets": {},
     "nuid": "2c32bc41-6c4c-4e92-8966-42bbc1acb5b8",
     "showTitle": false,
     "tableResultSettingsMap": {},
     "title": ""
    }
   },
   "source": [
    "##### 1. Convert all the item names to be UPPERCASE (TRANSFORM Function)"
   ]
  },
  {
   "cell_type": "code",
   "execution_count": 0,
   "metadata": {
    "application/vnd.databricks.v1+cell": {
     "cellMetadata": {
      "byteLimit": 2048000,
      "rowLimit": 10000
     },
     "inputWidgets": {},
     "nuid": "2eef7bd8-4cb6-4f97-b6f4-dfd041dbbb0a",
     "showTitle": false,
     "tableResultSettingsMap": {},
     "title": ""
    }
   },
   "outputs": [],
   "source": [
    "SELECT order_id,\n",
    "       TRANSFORM(items, x -> UPPER(x)) AS upper_items\n",
    "  FROM order_items;"
   ]
  },
  {
   "cell_type": "markdown",
   "metadata": {
    "application/vnd.databricks.v1+cell": {
     "cellMetadata": {},
     "inputWidgets": {},
     "nuid": "fcf3cd52-fdd1-4169-819e-3daf29045a8d",
     "showTitle": false,
     "tableResultSettingsMap": {},
     "title": ""
    }
   },
   "source": [
    "##### 2. Filter only items that contains the string 'smart' (FILTER Function)"
   ]
  },
  {
   "cell_type": "code",
   "execution_count": 0,
   "metadata": {
    "application/vnd.databricks.v1+cell": {
     "cellMetadata": {
      "byteLimit": 2048000,
      "rowLimit": 10000
     },
     "inputWidgets": {},
     "nuid": "d8468c0b-5edd-47d5-b93e-ff0651468aa0",
     "showTitle": false,
     "tableResultSettingsMap": {},
     "title": ""
    }
   },
   "outputs": [],
   "source": [
    "SELECT order_id,\n",
    "       FILTER(items, x -> x LIKE '%smart%') AS smart_items\n",
    "  FROM order_items;"
   ]
  },
  {
   "cell_type": "markdown",
   "metadata": {
    "application/vnd.databricks.v1+cell": {
     "cellMetadata": {},
     "inputWidgets": {},
     "nuid": "33dee243-d525-4e5e-bf25-c9ccb5d89aeb",
     "showTitle": false,
     "tableResultSettingsMap": {},
     "title": ""
    }
   },
   "source": [
    "##### 3. Check to see whether the order includes any 'monitor' (EXISTS Function)"
   ]
  },
  {
   "cell_type": "code",
   "execution_count": 0,
   "metadata": {
    "application/vnd.databricks.v1+cell": {
     "cellMetadata": {
      "byteLimit": 2048000,
      "rowLimit": 10000
     },
     "inputWidgets": {},
     "nuid": "bb54c9d2-64d5-44b2-aa93-cd459b7beeaa",
     "showTitle": false,
     "tableResultSettingsMap": {},
     "title": ""
    }
   },
   "outputs": [],
   "source": [
    "SELECT order_id,\n",
    "       EXISTS(items, x -> x = 'monitor') AS has_monitor\n",
    "  FROM order_items;"
   ]
  },
  {
   "cell_type": "markdown",
   "metadata": {
    "application/vnd.databricks.v1+cell": {
     "cellMetadata": {},
     "inputWidgets": {},
     "nuid": "05ef6240-94d7-458b-a403-6f7a5caefd69",
     "showTitle": false,
     "tableResultSettingsMap": {},
     "title": ""
    }
   },
   "source": [
    "### Array with more than one object"
   ]
  },
  {
   "cell_type": "code",
   "execution_count": 0,
   "metadata": {
    "application/vnd.databricks.v1+cell": {
     "cellMetadata": {
      "byteLimit": 2048000,
      "rowLimit": 10000
     },
     "inputWidgets": {},
     "nuid": "8f2f9f6b-8dd7-4ac4-8921-1f6a84898158",
     "showTitle": false,
     "tableResultSettingsMap": {},
     "title": ""
    }
   },
   "outputs": [],
   "source": [
    "CREATE OR REPLACE TEMP VIEW order_items AS\n",
    "SELECT * FROM VALUES\n",
    "  (1, array(\n",
    "        named_struct('name', 'smartphone', 'price', 699),\n",
    "        named_struct('name', 'laptop', 'price', 1199),\n",
    "        named_struct('name', 'monitor', 'price', 399)\n",
    "    )),\n",
    "  (2, array(\n",
    "        named_struct('name', 'tablet', 'price', 599),\n",
    "        named_struct('name', 'headphones', 'price', 199),\n",
    "        named_struct('name', 'smartwatch', 'price', 299)\n",
    "    )),\n",
    "  (3, array(\n",
    "        named_struct('name', 'keyboard', 'price', 89),\n",
    "        named_struct('name', 'mouse', 'price', 59)\n",
    "    ))\n",
    "AS orders(order_id, items);\n"
   ]
  },
  {
   "cell_type": "code",
   "execution_count": 0,
   "metadata": {
    "application/vnd.databricks.v1+cell": {
     "cellMetadata": {
      "byteLimit": 2048000,
      "rowLimit": 10000
     },
     "inputWidgets": {},
     "nuid": "b29ab149-f6a4-462a-9ece-0d5ddf8e4da2",
     "showTitle": false,
     "tableResultSettingsMap": {},
     "title": ""
    }
   },
   "outputs": [],
   "source": [
    "SELECT * FROM order_items;"
   ]
  },
  {
   "cell_type": "markdown",
   "metadata": {
    "application/vnd.databricks.v1+cell": {
     "cellMetadata": {},
     "inputWidgets": {},
     "nuid": "5ec248fe-8069-4f33-858a-253d0d4632e9",
     "showTitle": false,
     "tableResultSettingsMap": {},
     "title": ""
    }
   },
   "source": [
    "##### 1. Convert all the item names to be UPPERCASE & Add 10% TAX to each item (TRANSFORM Function)"
   ]
  },
  {
   "cell_type": "code",
   "execution_count": 0,
   "metadata": {
    "application/vnd.databricks.v1+cell": {
     "cellMetadata": {
      "byteLimit": 2048000,
      "rowLimit": 10000
     },
     "inputWidgets": {},
     "nuid": "ac4ccba8-c700-4759-9188-e8b982569aad",
     "showTitle": false,
     "tableResultSettingsMap": {},
     "title": ""
    }
   },
   "outputs": [],
   "source": [
    "SELECT order_id,\n",
    "       TRANSFORM(items, x -> named_struct(\n",
    "                                          'name', UPPER(x.name),\n",
    "                                          'price', ROUND(x.price * 1.10, 2)\n",
    "                                          )) items_with_tax\n",
    "  FROM order_items"
   ]
  },
  {
   "cell_type": "markdown",
   "metadata": {
    "application/vnd.databricks.v1+cell": {
     "cellMetadata": {},
     "inputWidgets": {},
     "nuid": "d8694218-209b-48dc-b172-788743690dd7",
     "showTitle": false,
     "tableResultSettingsMap": {},
     "title": ""
    }
   },
   "source": [
    "##### 2. Calculate the total order amount for each of the order (AGGREGATE Function)"
   ]
  },
  {
   "cell_type": "code",
   "execution_count": 0,
   "metadata": {
    "application/vnd.databricks.v1+cell": {
     "cellMetadata": {
      "byteLimit": 2048000,
      "rowLimit": 10000
     },
     "inputWidgets": {},
     "nuid": "c97bc14d-f3b7-4c64-a921-54d72ce91f6e",
     "showTitle": false,
     "tableResultSettingsMap": {},
     "title": ""
    }
   },
   "outputs": [],
   "source": [
    "SELECT order_id,\n",
    "       AGGREGATE(items, 0, (acc, x) -> acc + x.price) AS total_order_price \n",
    "  FROM order_items"
   ]
  },
  {
   "cell_type": "markdown",
   "metadata": {
    "application/vnd.databricks.v1+cell": {
     "cellMetadata": {},
     "inputWidgets": {},
     "nuid": "2207021c-16ad-49eb-b191-71f7f0767938",
     "showTitle": false,
     "tableResultSettingsMap": {},
     "title": ""
    }
   },
   "source": [
    "### Map Functions"
   ]
  },
  {
   "cell_type": "markdown",
   "metadata": {
    "application/vnd.databricks.v1+cell": {
     "cellMetadata": {},
     "inputWidgets": {},
     "nuid": "031d17da-d272-4ac7-bd1e-378de0762c15",
     "showTitle": false,
     "tableResultSettingsMap": {},
     "title": ""
    }
   },
   "source": [
    "A map is a collection of key-value pairs, like a dictionary  \n",
    "`{'laptop': 1200, 'phone': 699}`"
   ]
  },
  {
   "cell_type": "markdown",
   "metadata": {
    "application/vnd.databricks.v1+cell": {
     "cellMetadata": {},
     "inputWidgets": {},
     "nuid": "f4f63dcb-636c-41c8-978f-6ba28296a185",
     "showTitle": false,
     "tableResultSettingsMap": {},
     "title": ""
    }
   },
   "source": [
    "### Commonly used Higher Order Map Functions  \n",
    "  - TRANSFORM_VALUES\n",
    "  - TRANSFORM_KEYS\n",
    "  - MAP_FILTER"
   ]
  },
  {
   "cell_type": "markdown",
   "metadata": {
    "application/vnd.databricks.v1+cell": {
     "cellMetadata": {},
     "inputWidgets": {},
     "nuid": "034421ed-ae75-439d-92d3-00a45a7536fd",
     "showTitle": false,
     "tableResultSettingsMap": {},
     "title": ""
    }
   },
   "source": [
    "#### Syntax\n",
    "-----------------------------------------------------------------------------\n",
    "`<function_name> (map_column, lambda_expression)`  \n",
    "_lambda expression_: `(key, value) -> expression)`"
   ]
  },
  {
   "cell_type": "code",
   "execution_count": 0,
   "metadata": {
    "application/vnd.databricks.v1+cell": {
     "cellMetadata": {
      "byteLimit": 2048000,
      "rowLimit": 10000
     },
     "inputWidgets": {},
     "nuid": "60b548a8-9e67-4a16-82cb-6a53c7103119",
     "showTitle": false,
     "tableResultSettingsMap": {},
     "title": ""
    }
   },
   "outputs": [],
   "source": [
    "CREATE OR REPLACE TEMP VIEW order_item_prices AS\n",
    "SELECT * FROM VALUES\n",
    "  (1, map('smartphone', 699, 'laptop', 1199, 'monitor', 399)),\n",
    "  (2, map('tablet', 599, 'headphones', 199, 'smartwatch', 299)),\n",
    "  (3, map('keyboard', 89, 'mouse', 59))\n",
    "AS orders(order_id, item_prices);"
   ]
  },
  {
   "cell_type": "code",
   "execution_count": 0,
   "metadata": {
    "application/vnd.databricks.v1+cell": {
     "cellMetadata": {
      "byteLimit": 2048000,
      "rowLimit": 10000
     },
     "inputWidgets": {},
     "nuid": "9bbac0fd-bc61-4f82-b12b-ad8d52e6d436",
     "showTitle": false,
     "tableResultSettingsMap": {},
     "title": ""
    }
   },
   "outputs": [],
   "source": [
    "SELECT * FROM order_item_prices;"
   ]
  },
  {
   "cell_type": "markdown",
   "metadata": {
    "application/vnd.databricks.v1+cell": {
     "cellMetadata": {},
     "inputWidgets": {},
     "nuid": "19e8c7d3-7abc-4cd4-addf-4b4a9b764927",
     "showTitle": false,
     "tableResultSettingsMap": {},
     "title": ""
    }
   },
   "source": [
    "##### 1. Convert all the item names to be UPPERCASE (TRANSFORM_KEYS Function)"
   ]
  },
  {
   "cell_type": "code",
   "execution_count": 0,
   "metadata": {
    "application/vnd.databricks.v1+cell": {
     "cellMetadata": {
      "byteLimit": 2048000,
      "rowLimit": 10000
     },
     "inputWidgets": {},
     "nuid": "e7fbd8a3-15b7-4045-bff2-88b549df51a8",
     "showTitle": false,
     "tableResultSettingsMap": {},
     "title": ""
    }
   },
   "outputs": [],
   "source": [
    "SELECT order_id,\n",
    "       TRANSFORM_KEYS(item_prices, (item, price) -> UPPER(item)) AS items_upper_case\n",
    "  FROM order_item_prices;"
   ]
  },
  {
   "cell_type": "markdown",
   "metadata": {
    "application/vnd.databricks.v1+cell": {
     "cellMetadata": {},
     "inputWidgets": {},
     "nuid": "62a6d3b0-5bb7-447a-aba4-02ebe1f75bd0",
     "showTitle": false,
     "tableResultSettingsMap": {},
     "title": ""
    }
   },
   "source": [
    "##### 2. Apply 10% TAX to item prices (TRANSFORM_VALUES Function)"
   ]
  },
  {
   "cell_type": "code",
   "execution_count": 0,
   "metadata": {
    "application/vnd.databricks.v1+cell": {
     "cellMetadata": {
      "byteLimit": 2048000,
      "rowLimit": 10000
     },
     "inputWidgets": {},
     "nuid": "a127b445-2657-4ed4-9925-2a6d8e2ed851",
     "showTitle": false,
     "tableResultSettingsMap": {},
     "title": ""
    }
   },
   "outputs": [],
   "source": [
    "SELECT order_id,\n",
    "       TRANSFORM_VALUES(item_prices, (item, price) -> ROUND(price * 1.10, 2)) AS prices_with_tax\n",
    "  FROM order_item_prices;"
   ]
  },
  {
   "cell_type": "markdown",
   "metadata": {
    "application/vnd.databricks.v1+cell": {
     "cellMetadata": {},
     "inputWidgets": {},
     "nuid": "42b30964-85d0-45cf-8f85-dbc674e42690",
     "showTitle": false,
     "tableResultSettingsMap": {},
     "title": ""
    }
   },
   "source": [
    "##### 3. Filter only items with price above $500 (MAP_FILTER Function)"
   ]
  },
  {
   "cell_type": "code",
   "execution_count": 0,
   "metadata": {
    "application/vnd.databricks.v1+cell": {
     "cellMetadata": {
      "byteLimit": 2048000,
      "rowLimit": 10000
     },
     "inputWidgets": {},
     "nuid": "ec15facc-a740-4521-a76b-2a78596626e2",
     "showTitle": false,
     "tableResultSettingsMap": {},
     "title": ""
    }
   },
   "outputs": [],
   "source": [
    "SELECT order_id,\n",
    "       MAP_FILTER(item_prices, (item, price) -> price > 500) AS premium_items\n",
    "  FROM order_item_prices;"
   ]
  }
 ],
 "metadata": {
  "application/vnd.databricks.v1+notebook": {
   "computePreferences": null,
   "dashboards": [],
   "environmentMetadata": {
    "base_environment": "",
    "environment_version": "2"
   },
   "inputWidgetPreferences": null,
   "language": "sql",
   "notebookMetadata": {
    "mostRecentlyExecutedCommandWithImplicitDF": {
     "commandId": 5175346670712694,
     "dataframes": [
      "_sqldf"
     ]
    },
    "pythonIndentUnit": 4
   },
   "notebookName": "21. Higher Order Functions",
   "widgets": {}
  },
  "language_info": {
   "name": "sql"
  }
 },
 "nbformat": 4,
 "nbformat_minor": 0
}
