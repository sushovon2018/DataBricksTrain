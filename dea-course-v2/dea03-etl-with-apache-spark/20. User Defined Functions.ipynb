{
 "cells": [
  {
   "cell_type": "markdown",
   "metadata": {
    "application/vnd.databricks.v1+cell": {
     "cellMetadata": {},
     "inputWidgets": {},
     "nuid": "c192bfd8-8dfe-4d9e-aafb-87cecd864dbe",
     "showTitle": false,
     "tableResultSettingsMap": {},
     "title": ""
    }
   },
   "source": [
    "## User Defined Functions (UDF)\n",
    "\n",
    "  > - User Defined Functions (UDF) in Spark are custom functions created by users to extend the capabilities of Spark SQL and PySpark. \n",
    "  > - UDFs allow us to perform calculations or transformations to apply business logic that are not possible with built-in functions\n",
    "  > - You define the function once and use it accross multiple queries.\n",
    "  > - SQL UDFs are recommended over Python UDFs due to better optimization\n"
   ]
  },
  {
   "cell_type": "markdown",
   "metadata": {
    "application/vnd.databricks.v1+cell": {
     "cellMetadata": {},
     "inputWidgets": {},
     "nuid": "4affbab2-d1ed-4cdd-80cd-c4283424b136",
     "showTitle": false,
     "tableResultSettingsMap": {},
     "title": ""
    }
   },
   "source": [
    "#### Syntax\n",
    "-----------------------------------------------------------------------------\n",
    "**CREATE OR REPLACE FUNCTION** catalog_name.schema_name.udf_name(param_name data_type)   \n",
    "**RETURNS** return_type   \n",
    "**RETURN** expression;"
   ]
  },
  {
   "cell_type": "markdown",
   "metadata": {
    "application/vnd.databricks.v1+cell": {
     "cellMetadata": {},
     "inputWidgets": {},
     "nuid": "adfa82f4-6f27-478c-a837-8404c8d6f9e5",
     "showTitle": false,
     "tableResultSettingsMap": {},
     "title": ""
    }
   },
   "source": [
    "#### Write a function to concatenate firstname and surname to and output the fullname"
   ]
  },
  {
   "cell_type": "code",
   "execution_count": 0,
   "metadata": {
    "application/vnd.databricks.v1+cell": {
     "cellMetadata": {
      "byteLimit": 2048000,
      "rowLimit": 10000
     },
     "inputWidgets": {},
     "nuid": "3a85eba6-9644-4c70-b90f-f9e9ca031d93",
     "showTitle": false,
     "tableResultSettingsMap": {},
     "title": ""
    }
   },
   "outputs": [],
   "source": [
    "CREATE OR REPLACE FUNCTION gizmobox.default.get_fullname(firstname STRING, surname STRING)\n",
    "RETURNS STRING\n",
    "RETURN CONCAT(initcap(firstname), ' ', initcap(surname));"
   ]
  },
  {
   "cell_type": "code",
   "execution_count": 0,
   "metadata": {
    "application/vnd.databricks.v1+cell": {
     "cellMetadata": {
      "byteLimit": 2048000,
      "rowLimit": 10000
     },
     "inputWidgets": {},
     "nuid": "becb6f00-e05e-4bdf-a1a2-a38dabc55e0b",
     "showTitle": false,
     "tableResultSettingsMap": {},
     "title": ""
    }
   },
   "outputs": [],
   "source": [
    "SELECT gizmobox.default.get_fullname('john', 'smith');"
   ]
  },
  {
   "cell_type": "code",
   "execution_count": 0,
   "metadata": {
    "application/vnd.databricks.v1+cell": {
     "cellMetadata": {
      "byteLimit": 2048000,
      "rowLimit": 10000
     },
     "inputWidgets": {},
     "nuid": "2c83d799-7eb0-4ee8-ad79-ab5c33dd6900",
     "showTitle": false,
     "tableResultSettingsMap": {},
     "title": ""
    }
   },
   "outputs": [],
   "source": [
    "DESC FUNCTION EXTENDED gizmobox.default.get_fullname;"
   ]
  },
  {
   "cell_type": "markdown",
   "metadata": {
    "application/vnd.databricks.v1+cell": {
     "cellMetadata": {},
     "inputWidgets": {},
     "nuid": "9256bd92-7c7d-4691-b3d2-ec0496051811",
     "showTitle": false,
     "tableResultSettingsMap": {},
     "title": ""
    }
   },
   "source": [
    "#### Write a function to get the description of the payment status"
   ]
  },
  {
   "cell_type": "code",
   "execution_count": 0,
   "metadata": {
    "application/vnd.databricks.v1+cell": {
     "cellMetadata": {
      "byteLimit": 2048000,
      "rowLimit": 10000
     },
     "inputWidgets": {},
     "nuid": "1b98f7dc-707f-4231-9a76-cb0b4a930d7a",
     "showTitle": false,
     "tableResultSettingsMap": {},
     "title": ""
    }
   },
   "outputs": [],
   "source": [
    "CREATE OR REPLACE FUNCTION gizmobox.default.get_payment_status(payment_status INT)\n",
    "RETURNS STRING\n",
    "RETURN CASE payment_status\n",
    "         WHEN 1 THEN 'Success'\n",
    "         WHEN 2 THEN 'Pending'\n",
    "         WHEN 3 THEN 'Cancelled'\n",
    "         WHEN 4 THEN 'Failed'\n",
    "       END;"
   ]
  },
  {
   "cell_type": "code",
   "execution_count": 0,
   "metadata": {
    "application/vnd.databricks.v1+cell": {
     "cellMetadata": {
      "byteLimit": 2048000,
      "rowLimit": 10000
     },
     "inputWidgets": {},
     "nuid": "e3fedeb7-5c8d-41b5-abc2-aa26d07d18b2",
     "showTitle": false,
     "tableResultSettingsMap": {},
     "title": ""
    }
   },
   "outputs": [],
   "source": [
    "SELECT payment_id,\n",
    "       order_id,\n",
    "       CAST(date_format(payment_timestamp,'yyyy-MM-dd') AS DATE) AS payment_date,\n",
    "       date_format(payment_timestamp,'HH:mm:ss') AS payment_time,\n",
    "       gizmobox.default.get_payment_status(payment_status) AS payment_status,  \n",
    "       payment_method\n",
    "  FROM gizmobox.bronze.payments;"
   ]
  }
 ],
 "metadata": {
  "application/vnd.databricks.v1+notebook": {
   "computePreferences": null,
   "dashboards": [],
   "environmentMetadata": {
    "base_environment": "",
    "environment_version": "2"
   },
   "inputWidgetPreferences": null,
   "language": "sql",
   "notebookMetadata": {
    "mostRecentlyExecutedCommandWithImplicitDF": {
     "commandId": 5175346670712694,
     "dataframes": [
      "_sqldf"
     ]
    },
    "pythonIndentUnit": 4
   },
   "notebookName": "20. User Defined Functions",
   "widgets": {}
  },
  "language_info": {
   "name": "sql"
  }
 },
 "nbformat": 4,
 "nbformat_minor": 0
}
